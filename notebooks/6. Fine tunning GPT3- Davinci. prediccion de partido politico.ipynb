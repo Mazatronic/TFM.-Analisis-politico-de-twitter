{
 "cells": [
  {
   "cell_type": "markdown",
   "id": "beaf4291",
   "metadata": {},
   "source": [
    "\n",
    "# <p style=\"text-align:center\"> <font color='darkorange'>**CUNEF**</font>\n",
    "## <p style=\"text-align:center\"> **El Pulso Político de Twitter Análisis de las Elecciones de Madrid 2023**\n",
    "### <p style=\"text-align:center\"> **6. Fine tunning GPT3- Davinci. prediccion de partido politico**</strong><br />\n",
    "    \n",
    "<p style=\"text-align:left\">Pablo Mazariegos Reviriego - <font color='orange'>pablo.mazariegos@cunef.edu </font>"
   ]
  },
  {
   "cell_type": "markdown",
   "id": "a0154a84",
   "metadata": {},
   "source": [
    "En este proyecto de Trabajo Fin de Máster, realizaremos un análisis de sentimiento de los tweets hechos por los 5 candidatos políticos a la presidencia de Madrid durante el período de campaña política que abarcó desde el 12 hasta el 27 de mayo de 2023. Utilizaremos una base de datos recopilada manualmente que contiene los tweets de los candidatos. El objetivo principal de este proyecto es desarrollar modelos de aprendizaje automático que puedan clasificar los tweets según su sentimiento (positivo, negativo o neutral).\n",
    "\n",
    "El proyecto se organizará en diferentes cuadernos, cada uno enfocado en una etapa específica del proceso:\n",
    "\n",
    " 1. EDA y Selección/Preparación de variables.\n",
    " 2. Análisis gráfico y  Word Cloud.\n",
    " 3. Modelos. Predicción de sentimiento.\n",
    " 4. Modelos. Predicción de Partido político.\n",
    " 5. Fine tunning GPT3- Davinci. Predicción de sentimiento.\n",
    " 6.  <font color='darkgreen'> **Fine tunning GPT3- Davinci. Predicción de Partido político.**</font>\n",
    "\n",
    "En este cuaderno, utilizaremos el modelo GPT-3 Davinci de OpenAI para realizar fine-tuning, es decir, entrenaremos el modelo con nuestros propios datos con el objetivo de utilizarlo como un clasificador de texto para predecir el partido político asociado a un tweet. Haremos uso del API de OpenAI para interactuar con el modelo, tanto en la etapa de entrenamiento como en la etapa de predicción. El objetivo final es utilizar este modelo para intentar realizar predicciones sobre el partido político al que pertenece un tweet dado.\n",
    "\n",
    "  **INDICE:**\n",
    " \n",
    "\n",
    " - [Importación de Librerias](#0) \n",
    " - [Introducción del API OpenAI](#1) \n",
    " - [Carga de datos](#2)\n",
    " - [Preparación de datos](#3)\n",
    " - [Porceso CLI Open AI](#4)\n",
    " - [Entrenamiento del modelo](#5)\n",
    " - [Resultados](#6)\n",
    " - [Pruebas del modelo](#7)"
   ]
  },
  {
   "cell_type": "markdown",
   "id": "961a4f19",
   "metadata": {},
   "source": [
    "##  <a name=\"0\"> Importación de Librerias</a>"
   ]
  },
  {
   "cell_type": "code",
   "execution_count": 43,
   "id": "f1e5a899",
   "metadata": {},
   "outputs": [],
   "source": [
    "import pandas as pd\n",
    "import seaborn as sns\n",
    "import json\n",
    "import openai\n",
    "from getpass import getpass\n",
    "import unidecode\n",
    "import os\n",
    "import openai\n",
    "import numpy as np\n",
    "import matplotlib.pyplot as plt\n",
    "from sklearn.metrics import roc_curve, roc_auc_score, confusion_matrix\n",
    "\n",
    "import warnings\n",
    "warnings.filterwarnings('ignore')"
   ]
  },
  {
   "cell_type": "markdown",
   "id": "1c0ecb30",
   "metadata": {},
   "source": [
    "##  <a name=\"1\"> Introducción del API OpenAI</a>"
   ]
  },
  {
   "cell_type": "markdown",
   "id": "1efc351c",
   "metadata": {},
   "source": [
    "Con este metodo de introducción el API se mantendra privada y oculta"
   ]
  },
  {
   "cell_type": "code",
   "execution_count": 3,
   "id": "f422e839",
   "metadata": {},
   "outputs": [
    {
     "name": "stdout",
     "output_type": "stream",
     "text": [
      "Introduce tu API_KEY de Open AI:········\n"
     ]
    }
   ],
   "source": [
    "API_KEY_OPENAI = getpass('Introduce tu API_KEY de Open AI:')\n",
    "\n",
    "openai.api_key = API_KEY_OPENAI\n",
    "os.environ['OPENAI_API_KEY'] = API_KEY_OPENAI"
   ]
  },
  {
   "cell_type": "markdown",
   "id": "cfb5e770",
   "metadata": {},
   "source": [
    "##  <a name=\"2\"> Carga de datos</a>"
   ]
  },
  {
   "cell_type": "code",
   "execution_count": 4,
   "id": "a9ed6182",
   "metadata": {},
   "outputs": [
    {
     "data": {
      "text/html": [
       "<div>\n",
       "<style scoped>\n",
       "    .dataframe tbody tr th:only-of-type {\n",
       "        vertical-align: middle;\n",
       "    }\n",
       "\n",
       "    .dataframe tbody tr th {\n",
       "        vertical-align: top;\n",
       "    }\n",
       "\n",
       "    .dataframe thead th {\n",
       "        text-align: right;\n",
       "    }\n",
       "</style>\n",
       "<table border=\"1\" class=\"dataframe\">\n",
       "  <thead>\n",
       "    <tr style=\"text-align: right;\">\n",
       "      <th></th>\n",
       "      <th>partido</th>\n",
       "      <th>partido_num</th>\n",
       "      <th>candidato</th>\n",
       "      <th>nick</th>\n",
       "      <th>followers</th>\n",
       "      <th>fecha</th>\n",
       "      <th>post</th>\n",
       "      <th>post_clean</th>\n",
       "      <th>sentimiento</th>\n",
       "      <th>sentimiento_num</th>\n",
       "      <th>...</th>\n",
       "      <th>comments vs viewed</th>\n",
       "      <th>shared</th>\n",
       "      <th>shared vs viewed</th>\n",
       "      <th>likes</th>\n",
       "      <th>likes vs viewed</th>\n",
       "      <th>votos</th>\n",
       "      <th>porcentaje</th>\n",
       "      <th>escaños</th>\n",
       "      <th>Num_words_POST</th>\n",
       "      <th>sentimiento_clean</th>\n",
       "    </tr>\n",
       "  </thead>\n",
       "  <tbody>\n",
       "    <tr>\n",
       "      <th>0</th>\n",
       "      <td>pp</td>\n",
       "      <td>4</td>\n",
       "      <td>Isabel Díaz Ayuso</td>\n",
       "      <td>@IdiazAyuso</td>\n",
       "      <td>912100</td>\n",
       "      <td>2023-05-12</td>\n",
       "      <td>Comenzamos la campaña, una vez más, junto a la...</td>\n",
       "      <td>comenzamos la campana, una vez mas, junto a la...</td>\n",
       "      <td>positive</td>\n",
       "      <td>2</td>\n",
       "      <td>...</td>\n",
       "      <td>0.003373</td>\n",
       "      <td>261</td>\n",
       "      <td>0.004446</td>\n",
       "      <td>1260</td>\n",
       "      <td>0.021465</td>\n",
       "      <td>1586985</td>\n",
       "      <td>0.4734</td>\n",
       "      <td>71</td>\n",
       "      <td>42</td>\n",
       "      <td>comenzamos campana vez mas junto agricultura c...</td>\n",
       "    </tr>\n",
       "    <tr>\n",
       "      <th>1</th>\n",
       "      <td>pp</td>\n",
       "      <td>4</td>\n",
       "      <td>Isabel Díaz Ayuso</td>\n",
       "      <td>@IdiazAyuso</td>\n",
       "      <td>912100</td>\n",
       "      <td>2023-05-12</td>\n",
       "      <td>Madrid es la región del Espíritu de Ermua, la ...</td>\n",
       "      <td>madrid es la region del espiritu de ermua, la ...</td>\n",
       "      <td>negative</td>\n",
       "      <td>0</td>\n",
       "      <td>...</td>\n",
       "      <td>0.005413</td>\n",
       "      <td>561</td>\n",
       "      <td>0.005522</td>\n",
       "      <td>2127</td>\n",
       "      <td>0.020935</td>\n",
       "      <td>1586985</td>\n",
       "      <td>0.4734</td>\n",
       "      <td>70</td>\n",
       "      <td>24</td>\n",
       "      <td>madrid region espiritu ermua admite totalitari...</td>\n",
       "    </tr>\n",
       "    <tr>\n",
       "      <th>2</th>\n",
       "      <td>pp</td>\n",
       "      <td>4</td>\n",
       "      <td>Isabel Díaz Ayuso</td>\n",
       "      <td>@IdiazAyuso</td>\n",
       "      <td>912100</td>\n",
       "      <td>2023-05-12</td>\n",
       "      <td>Majadahonda con ganas de Libertad, familia, un...</td>\n",
       "      <td>majadahonda con ganas de libertad, familia, un...</td>\n",
       "      <td>positive</td>\n",
       "      <td>2</td>\n",
       "      <td>...</td>\n",
       "      <td>0.002345</td>\n",
       "      <td>213</td>\n",
       "      <td>0.003568</td>\n",
       "      <td>1042</td>\n",
       "      <td>0.017454</td>\n",
       "      <td>1586985</td>\n",
       "      <td>0.4734</td>\n",
       "      <td>70</td>\n",
       "      <td>17</td>\n",
       "      <td>majadahonda ganas libertad familia unidad aleg...</td>\n",
       "    </tr>\n",
       "    <tr>\n",
       "      <th>3</th>\n",
       "      <td>pp</td>\n",
       "      <td>4</td>\n",
       "      <td>Isabel Díaz Ayuso</td>\n",
       "      <td>@IdiazAyuso</td>\n",
       "      <td>912100</td>\n",
       "      <td>2023-05-13</td>\n",
       "      <td>Presidente: líbranos del mal.</td>\n",
       "      <td>presidente: libranos del mal.</td>\n",
       "      <td>positive</td>\n",
       "      <td>2</td>\n",
       "      <td>...</td>\n",
       "      <td>0.002700</td>\n",
       "      <td>549</td>\n",
       "      <td>0.001660</td>\n",
       "      <td>2592</td>\n",
       "      <td>0.007836</td>\n",
       "      <td>1586985</td>\n",
       "      <td>0.4734</td>\n",
       "      <td>70</td>\n",
       "      <td>4</td>\n",
       "      <td>presidente libranos mal</td>\n",
       "    </tr>\n",
       "    <tr>\n",
       "      <th>4</th>\n",
       "      <td>pp</td>\n",
       "      <td>4</td>\n",
       "      <td>Isabel Díaz Ayuso</td>\n",
       "      <td>@IdiazAyuso</td>\n",
       "      <td>912100</td>\n",
       "      <td>2023-05-13</td>\n",
       "      <td>En Madrid sólo habrá 2 tarifas de transporte p...</td>\n",
       "      <td>en madrid solo habra 2 tarifas de transporte p...</td>\n",
       "      <td>negative</td>\n",
       "      <td>0</td>\n",
       "      <td>...</td>\n",
       "      <td>0.001445</td>\n",
       "      <td>759</td>\n",
       "      <td>0.003562</td>\n",
       "      <td>3016</td>\n",
       "      <td>0.014153</td>\n",
       "      <td>1586985</td>\n",
       "      <td>0.4734</td>\n",
       "      <td>70</td>\n",
       "      <td>51</td>\n",
       "      <td>madrid solo habra 2 tarifas transporte publico...</td>\n",
       "    </tr>\n",
       "  </tbody>\n",
       "</table>\n",
       "<p>5 rows × 29 columns</p>\n",
       "</div>"
      ],
      "text/plain": [
       "  partido  partido_num          candidato          nick  followers  \\\n",
       "0     pp             4  Isabel Díaz Ayuso   @IdiazAyuso     912100   \n",
       "1     pp             4  Isabel Díaz Ayuso   @IdiazAyuso     912100   \n",
       "2     pp             4  Isabel Díaz Ayuso   @IdiazAyuso     912100   \n",
       "3     pp             4  Isabel Díaz Ayuso   @IdiazAyuso     912100   \n",
       "4     pp             4  Isabel Díaz Ayuso   @IdiazAyuso     912100   \n",
       "\n",
       "        fecha                                               post  \\\n",
       "0  2023-05-12  Comenzamos la campaña, una vez más, junto a la...   \n",
       "1  2023-05-12  Madrid es la región del Espíritu de Ermua, la ...   \n",
       "2  2023-05-12  Majadahonda con ganas de Libertad, familia, un...   \n",
       "3  2023-05-13                      Presidente: líbranos del mal.   \n",
       "4  2023-05-13  En Madrid sólo habrá 2 tarifas de transporte p...   \n",
       "\n",
       "                                          post_clean sentimiento  \\\n",
       "0  comenzamos la campana, una vez mas, junto a la...    positive   \n",
       "1  madrid es la region del espiritu de ermua, la ...    negative   \n",
       "2  majadahonda con ganas de libertad, familia, un...    positive   \n",
       "3                      presidente: libranos del mal.    positive   \n",
       "4  en madrid solo habra 2 tarifas de transporte p...    negative   \n",
       "\n",
       "   sentimiento_num  ...  comments vs viewed  shared  shared vs viewed  likes  \\\n",
       "0                2  ...            0.003373     261          0.004446   1260   \n",
       "1                0  ...            0.005413     561          0.005522   2127   \n",
       "2                2  ...            0.002345     213          0.003568   1042   \n",
       "3                2  ...            0.002700     549          0.001660   2592   \n",
       "4                0  ...            0.001445     759          0.003562   3016   \n",
       "\n",
       "   likes vs viewed    votos  porcentaje  escaños  Num_words_POST  \\\n",
       "0         0.021465  1586985      0.4734       71              42   \n",
       "1         0.020935  1586985      0.4734       70              24   \n",
       "2         0.017454  1586985      0.4734       70              17   \n",
       "3         0.007836  1586985      0.4734       70               4   \n",
       "4         0.014153  1586985      0.4734       70              51   \n",
       "\n",
       "                                   sentimiento_clean  \n",
       "0  comenzamos campana vez mas junto agricultura c...  \n",
       "1  madrid region espiritu ermua admite totalitari...  \n",
       "2  majadahonda ganas libertad familia unidad aleg...  \n",
       "3                            presidente libranos mal  \n",
       "4  madrid solo habra 2 tarifas transporte publico...  \n",
       "\n",
       "[5 rows x 29 columns]"
      ]
     },
     "execution_count": 4,
     "metadata": {},
     "output_type": "execute_result"
    }
   ],
   "source": [
    "file_path = '../data/processed/df_sentimiento_final.csv'\n",
    "df = pd.read_csv(file_path)\n",
    "df = df.drop(\"Unnamed: 0\", axis=1)\n",
    "df.head()"
   ]
  },
  {
   "cell_type": "code",
   "execution_count": 5,
   "id": "06fa160c",
   "metadata": {},
   "outputs": [
    {
     "name": "stdout",
     "output_type": "stream",
     "text": [
      "<class 'pandas.core.frame.DataFrame'>\n",
      "RangeIndex: 770 entries, 0 to 769\n",
      "Data columns (total 29 columns):\n",
      " #   Column              Non-Null Count  Dtype  \n",
      "---  ------              --------------  -----  \n",
      " 0   partido             770 non-null    object \n",
      " 1   partido_num         770 non-null    int64  \n",
      " 2   candidato           770 non-null    object \n",
      " 3   nick                770 non-null    object \n",
      " 4   followers           770 non-null    int64  \n",
      " 5   fecha               770 non-null    object \n",
      " 6   post                770 non-null    object \n",
      " 7   post_clean          770 non-null    object \n",
      " 8   sentimiento         770 non-null    object \n",
      " 9   sentimiento_num     770 non-null    int64  \n",
      " 10  negative            770 non-null    float64\n",
      " 11  neutral             770 non-null    float64\n",
      " 12  positive            770 non-null    float64\n",
      " 13  video               770 non-null    bool   \n",
      " 14  foto                770 non-null    bool   \n",
      " 15  repost              770 non-null    bool   \n",
      " 16  retweet             770 non-null    bool   \n",
      " 17  viewed              770 non-null    int64  \n",
      " 18  comments            770 non-null    int64  \n",
      " 19  comments vs viewed  770 non-null    float64\n",
      " 20  shared              770 non-null    int64  \n",
      " 21  shared vs viewed    770 non-null    float64\n",
      " 22  likes               770 non-null    int64  \n",
      " 23  likes vs viewed     770 non-null    float64\n",
      " 24  votos               770 non-null    int64  \n",
      " 25  porcentaje          770 non-null    float64\n",
      " 26  escaños             770 non-null    int64  \n",
      " 27  Num_words_POST      770 non-null    int64  \n",
      " 28  sentimiento_clean   769 non-null    object \n",
      "dtypes: bool(4), float64(7), int64(10), object(8)\n",
      "memory usage: 153.5+ KB\n"
     ]
    }
   ],
   "source": [
    "df.info()"
   ]
  },
  {
   "cell_type": "markdown",
   "id": "fd73bddf",
   "metadata": {},
   "source": [
    "##  <a name=\"3\"> Preparación de datos</a>"
   ]
  },
  {
   "cell_type": "markdown",
   "id": "6268bcd2",
   "metadata": {},
   "source": [
    "El proceso de fine-tuning puede aplicarse a los modelos base de OpenAI, que son: davinci, curie, babbage y ada. Estos modelos no tienen entrenamiento de seguimiento de instrucciones, lo que significa que se pueden personalizar a través de este proceso.\n",
    "\n",
    "En cuanto a los datos de entrenamiento, se deben preparar en forma de JSONL, que es un formato de archivo conveniente para almacenar estructuras de datos. En este caso, cada línea del archivo representa un objeto JSON independiente y corresponde a un par de prompt-completitud.\n",
    "\n",
    "En este escenario, el \"prompt\" podría ser un tweet y la \"completitud\" es la etiqueta del sentimiento correspondiente.\n",
    "En este formato, cada línea constituirá un ejemplo de entrenamiento para el modelo. La idea es que, al ver suficientes de estos pares prompt-completitud, el modelo aprenda a generalizar y a predecir la \"completitud\" que no ha visto antes."
   ]
  },
  {
   "cell_type": "code",
   "execution_count": 6,
   "id": "9855b5f1",
   "metadata": {},
   "outputs": [],
   "source": [
    "# Crea un nuevo data frame con las columnas que necesitas\n",
    "new_df = df[['post_clean', 'partido']]\n",
    "new_df['partido'] = new_df['partido'].str.strip()"
   ]
  },
  {
   "cell_type": "code",
   "execution_count": 7,
   "id": "201fae0e",
   "metadata": {},
   "outputs": [
    {
     "data": {
      "text/html": [
       "<div>\n",
       "<style scoped>\n",
       "    .dataframe tbody tr th:only-of-type {\n",
       "        vertical-align: middle;\n",
       "    }\n",
       "\n",
       "    .dataframe tbody tr th {\n",
       "        vertical-align: top;\n",
       "    }\n",
       "\n",
       "    .dataframe thead th {\n",
       "        text-align: right;\n",
       "    }\n",
       "</style>\n",
       "<table border=\"1\" class=\"dataframe\">\n",
       "  <thead>\n",
       "    <tr style=\"text-align: right;\">\n",
       "      <th></th>\n",
       "      <th>post_clean</th>\n",
       "      <th>partido</th>\n",
       "    </tr>\n",
       "  </thead>\n",
       "  <tbody>\n",
       "    <tr>\n",
       "      <th>0</th>\n",
       "      <td>comenzamos la campana, una vez mas, junto a la...</td>\n",
       "      <td>pp</td>\n",
       "    </tr>\n",
       "    <tr>\n",
       "      <th>1</th>\n",
       "      <td>madrid es la region del espiritu de ermua, la ...</td>\n",
       "      <td>pp</td>\n",
       "    </tr>\n",
       "    <tr>\n",
       "      <th>2</th>\n",
       "      <td>majadahonda con ganas de libertad, familia, un...</td>\n",
       "      <td>pp</td>\n",
       "    </tr>\n",
       "    <tr>\n",
       "      <th>3</th>\n",
       "      <td>presidente: libranos del mal.</td>\n",
       "      <td>pp</td>\n",
       "    </tr>\n",
       "    <tr>\n",
       "      <th>4</th>\n",
       "      <td>en madrid solo habra 2 tarifas de transporte p...</td>\n",
       "      <td>pp</td>\n",
       "    </tr>\n",
       "  </tbody>\n",
       "</table>\n",
       "</div>"
      ],
      "text/plain": [
       "                                          post_clean partido\n",
       "0  comenzamos la campana, una vez mas, junto a la...      pp\n",
       "1  madrid es la region del espiritu de ermua, la ...      pp\n",
       "2  majadahonda con ganas de libertad, familia, un...      pp\n",
       "3                      presidente: libranos del mal.      pp\n",
       "4  en madrid solo habra 2 tarifas de transporte p...      pp"
      ]
     },
     "execution_count": 7,
     "metadata": {},
     "output_type": "execute_result"
    }
   ],
   "source": [
    "new_df.head()"
   ]
  },
  {
   "cell_type": "markdown",
   "id": "c0622450",
   "metadata": {},
   "source": [
    "## Guardamos los tweets y partido en un JSONL"
   ]
  },
  {
   "cell_type": "code",
   "execution_count": 10,
   "id": "2ac12819",
   "metadata": {},
   "outputs": [],
   "source": [
    "# Crea un archivo JSONL y escribe los datos en él\n",
    "with open('formatted_tweets_politicos.jsonl', 'w', encoding='utf-8') as f:\n",
    "    # Itera sobre cada fila del nuevo DataFrame\n",
    "    for index, row in new_df.iterrows():\n",
    "        # Crea un diccionario con el formato que necesitas\n",
    "        entry = {\"prompt\": row['post_clean'], \"completion\": row['partido']}\n",
    "        # Escribe cada diccionario como una línea en el archivo JSONL\n",
    "        json.dump(entry, f, ensure_ascii=False)\n",
    "        f.write('\\n')"
   ]
  },
  {
   "cell_type": "markdown",
   "id": "629256b1",
   "metadata": {},
   "source": [
    "**Comprobamos que el JSONL existe y esta correctamente escirto:**"
   ]
  },
  {
   "cell_type": "code",
   "execution_count": 11,
   "id": "a18a1b71",
   "metadata": {},
   "outputs": [
    {
     "name": "stdout",
     "output_type": "stream",
     "text": [
      "El archivo JSONL existe.\n",
      "El archivo JSONL no está vacío.\n",
      "Primeros 5 registros del archivo JSONL:\n",
      "{'prompt': 'comenzamos la campana, una vez mas, junto a la agricultura y el campo madrileno.  con nuevas propuestas para los agricultores, rejuvenecer el sector y menos trabas. contra los incendios, por el patrimonio natural y un aire limpio.  ganas de un madrid natural.', 'completion': 'pp'}\n",
      "{'prompt': 'madrid es la region del espiritu de ermua, la que no admite totalitarios, ni trata como forasteros ni traga con presentar etarras en listas.', 'completion': 'pp'}\n",
      "{'prompt': 'majadahonda con ganas de libertad, familia, unidad, alegria, calidad de vida. con    , su futura gran alcaldesa.', 'completion': 'pp'}\n",
      "{'prompt': 'presidente: libranos del mal.', 'completion': 'pp'}\n",
      "{'prompt': 'en madrid solo habra 2 tarifas de transporte publico: la a, para madrid capital, y la b, para el resto de la region. con esta medida, millones de ciudadanos se ahorraran hasta 180 euros al ano. seguimos ampliando el metro, para llegar a los 340 kilometros. ya es accesible el 84%.', 'completion': 'pp'}\n"
     ]
    }
   ],
   "source": [
    "file_path = 'formatted_tweets_politicos.jsonl'\n",
    "\n",
    "# Verificar si el archivo JSONL existe\n",
    "if os.path.exists(file_path):\n",
    "    print(\"El archivo JSONL existe.\")\n",
    "else:\n",
    "    print(\"El archivo JSONL no existe.\")\n",
    "\n",
    "# Leer el contenido del archivo JSONL\n",
    "json_data = []\n",
    "with open(file_path, 'r', encoding='utf-8') as f:\n",
    "    for line in f:\n",
    "        entry = json.loads(line)\n",
    "        json_data.append(entry)\n",
    "\n",
    "# Verificar si el archivo JSONL está vacío\n",
    "if len(json_data) > 0:\n",
    "    print(\"El archivo JSONL no está vacío.\")\n",
    "else:\n",
    "    print(\"El archivo JSONL está vacío.\")\n",
    "\n",
    "# Imprimir algunos datos del archivo JSONL\n",
    "print(\"Primeros 5 registros del archivo JSONL:\")\n",
    "for entry in json_data[:5]:\n",
    "    print(entry)"
   ]
  },
  {
   "cell_type": "markdown",
   "id": "e143f487",
   "metadata": {},
   "source": [
    "##  <a name=\"4\"> Proceso CLI OpenAI </a>"
   ]
  },
  {
   "cell_type": "markdown",
   "id": "c2d0ebbc",
   "metadata": {},
   "source": [
    "La CLI (Interfaz de Línea de Comandos) de OpenAI es una herramienta que permite interactuar con la API de OpenAI desde la línea de comandos. En este contexto, se utiliza para ayudar a preparar tus datos de entrenamiento para el fine-tuning.\n",
    "\n",
    "El proceso de preparación de datos puede implicar la revisión de los datos y la realización de modificaciones para mejorar el rendimiento del modelo. Sin embargo, es importante tener en cuenta que, aunque la herramienta CLI puede hacer algunas transformaciones básicas en los datos, no es perfecta. \n",
    "\n",
    "Además, no existe hasta la fecha de este proyecto una forma de personalizar completamente este proceso. Por lo tanto, podría ser necesario realizar un pre procesamiento de datos o ajustes antes de usar la CLI para asegurar de que los datos de entrenamiento estén en el estado ideal para tu tarea específica.\n",
    "\n",
    "Una vez finalizado el proceso de línea de comandos (CLI), se procede a cargar los datos de entrenamiento y validación con el objetivo de iniciar el entrenamiento del modelo. Una vez completado este entrenamiento, el sistema generará y proporcionará un identificador único (ID de modelo). Este ID es crucial, ya que permite la interacción posterior con el modelo: se puede utilizar para consultar datos, fine tuning en el modelo, o incluso para poner el modelo en producción."
   ]
  },
  {
   "cell_type": "code",
   "execution_count": 12,
   "id": "c19b72b8",
   "metadata": {},
   "outputs": [
    {
     "name": "stdout",
     "output_type": "stream",
     "text": [
      "Analyzing...\n",
      "\n",
      "- Your file contains 770 prompt-completion pairs\n",
      "- Based on your data it seems like you're trying to fine-tune a model for classification\n",
      "- For classification, we recommend you try one of the faster and cheaper models, such as `ada`\n",
      "- For classification, you can estimate the expected model performance by keeping a held out dataset, which is not used for training\n",
      "- There are 5 duplicated prompt-completion sets. These are rows: [117, 425, 526, 539, 592]\n",
      "- Your data does not contain a common separator at the end of your prompts. Having a separator string appended to the end of the prompt makes it clearer to the fine-tuned model where the completion should begin. See https://platform.openai.com/docs/guides/fine-tuning/preparing-your-dataset for more detail and examples. If you intend to do open-ended generation, then you should leave the prompts empty\n",
      "- The completion should start with a whitespace character (` `). This tends to produce better results due to the tokenization we use. See https://platform.openai.com/docs/guides/fine-tuning/preparing-your-dataset for more details\n",
      "\n",
      "Based on the analysis we will perform the following actions:\n",
      "- [Recommended] Remove 5 duplicate rows [Y/n]: Y\n",
      "- [Recommended] Add a suffix separator ` ->` to all prompts [Y/n]: Y\n",
      "- [Recommended] Add a whitespace character to the beginning of the completion [Y/n]: Y\n",
      "- [Recommended] Would you like to split into training and validation set? [Y/n]: Y\n",
      "\n",
      "\n",
      "Your data will be written to a new JSONL file. Proceed [Y/n]: Y\n",
      "\n",
      "Wrote modified files to `formatted_tweets_politicos_prepared_train.jsonl` and `formatted_tweets_politicos_prepared_valid.jsonl`\n",
      "Feel free to take a look!\n",
      "\n",
      "Now use that file when fine-tuning:\n",
      "> openai api fine_tunes.create -t \"formatted_tweets_politicos_prepared_train.jsonl\" -v \"formatted_tweets_politicos_prepared_valid.jsonl\" --compute_classification_metrics --classification_n_classes 5\n",
      "\n",
      "After you’ve fine-tuned a model, remember that your prompt has to end with the indicator string ` ->` for the model to start generating completions, rather than continuing with the prompt.\n",
      "Once your model starts training, it'll approximately take 20.69 minutes to train a `curie` model, and less for `ada` and `babbage`. Queue will approximately take half an hour per job ahead of you.\n"
     ]
    },
    {
     "name": "stderr",
     "output_type": "stream",
     "text": [
      "C:\\Users\\Pablo\\anaconda3\\envs\\tfm\\lib\\site-packages\\openai\\validators.py:222: SettingWithCopyWarning: \n",
      "A value is trying to be set on a copy of a slice from a DataFrame.\n",
      "Try using .loc[row_indexer,col_indexer] = value instead\n",
      "\n",
      "See the caveats in the documentation: https://pandas.pydata.org/pandas-docs/stable/user_guide/indexing.html#returning-a-view-versus-a-copy\n",
      "  x[\"prompt\"] += suffix\n",
      "C:\\Users\\Pablo\\anaconda3\\envs\\tfm\\lib\\site-packages\\openai\\validators.py:421: SettingWithCopyWarning: \n",
      "A value is trying to be set on a copy of a slice from a DataFrame.\n",
      "Try using .loc[row_indexer,col_indexer] = value instead\n",
      "\n",
      "See the caveats in the documentation: https://pandas.pydata.org/pandas-docs/stable/user_guide/indexing.html#returning-a-view-versus-a-copy\n",
      "  x[\"completion\"] = x[\"completion\"].apply(\n"
     ]
    }
   ],
   "source": [
    "!openai tools fine_tunes.prepare_data -f formatted_tweets_politicos.jsonl -q"
   ]
  },
  {
   "cell_type": "markdown",
   "id": "362ace10",
   "metadata": {},
   "source": [
    "**Sobre cambios en los parametros del preprocesado anterior:**\n",
    "\n",
    "- Chat GPT:\n",
    "\n",
    "\"Lamentablemente, en el caso específico del comando !openai tools fine_tunes.prepare_data, las recomendaciones de rendimiento sugeridas no se pueden cambiar directamente desde el código. Las recomendaciones son proporcionadas por la herramienta de ajuste fino de OpenAI en función del análisis de los datos proporcionados.\""
   ]
  },
  {
   "cell_type": "markdown",
   "id": "5542b508",
   "metadata": {},
   "source": [
    "##  <a name=\"5\"> Entrenamiento del modelo</a>"
   ]
  },
  {
   "cell_type": "markdown",
   "id": "25d7932f",
   "metadata": {},
   "source": [
    "**Subida de lo JSONL de entrenamiento y test:**"
   ]
  },
  {
   "cell_type": "markdown",
   "id": "e2483904",
   "metadata": {},
   "source": [
    "En este cuaderno, hemos subido los datos en formato JSONL, divididos en conjuntos de entrenamiento y prueba, utilizando la interfaz de línea de comandos (CLI) proporcionada anteriormente. A continuación, procederemos a entrenar el modelo utilizando estos datos.\n",
    "\n",
    "El entrenamiento del modelo se realizará utilizando el fine-tuning, donde ajustaremos los parámetros del modelo preentrenado GPT-3 Davinci utilizando nuestros propios datos. Este proceso permitirá al modelo aprender a clasificar los tweets según el partido político al que pertenecen.\n",
    "\n",
    "Durante el entrenamiento, el modelo se ajustará a los datos de entrenamiento y se optimizará para minimizar el error en la clasificación de los tweets. \n",
    "\n",
    "Una vez finalizado el entrenamiento, el modelo estará listo para realizar predicciones en el conjunto de prueba y evaluar su rendimiento en datos no vistos anteriormente. Utilizaremos métricas de evaluación adecuadas para medir la precisión y el rendimiento general del modelo.\n",
    "\n",
    "En resumen, hemos subido los datos de entrenamiento y prueba en formato JSONL a través de la interfaz de línea de comandos y estamos a punto de iniciar el entrenamiento del modelo GPT-3 Davinci utilizando estos datos para predecir el partido político asociado a los tweets."
   ]
  },
  {
   "cell_type": "code",
   "execution_count": 17,
   "id": "7652fd79",
   "metadata": {},
   "outputs": [
    {
     "name": "stdout",
     "output_type": "stream",
     "text": [
      "Uploaded file from formatted_tweets_politicos_prepared_train.jsonl: file-1m89aWgVfjNzuaLTWjwBtIDj\n",
      "Uploaded file from formatted_tweets_politicos_prepared_valid.jsonl: file-cPHm6xhDjY1wuTQ7WqMASySp\n",
      "Created fine-tune: ft-xamF6eKoYplEG0NB2stbVfZ1\n",
      "Streaming events until fine-tuning is complete...\n",
      "\n",
      "(Ctrl-C will interrupt the stream, but not cancel the fine-tune)\n",
      "[2023-06-08 20:18:27] Created fine-tune: ft-xamF6eKoYplEG0NB2stbVfZ1\n",
      "\n"
     ]
    },
    {
     "name": "stderr",
     "output_type": "stream",
     "text": [
      "\n",
      "Upload progress:   0%|          | 0.00/116k [00:00<?, ?it/s]\n",
      "Upload progress: 100%|##########| 116k/116k [00:00<00:00, 107Mit/s]\n",
      "\n",
      "Upload progress:   0%|          | 0.00/30.9k [00:00<?, ?it/s]\n",
      "Upload progress: 100%|##########| 30.9k/30.9k [00:00<00:00, 15.5Mit/s]\n"
     ]
    }
   ],
   "source": [
    "!openai api fine_tunes.create -t \"formatted_tweets_politicos_prepared_train.jsonl\" -v \"formatted_tweets_politicos_prepared_valid.jsonl\" --model \"davinci\" --compute_classification_metrics --classification_n_classes 5"
   ]
  },
  {
   "cell_type": "markdown",
   "id": "1f641fd6",
   "metadata": {},
   "source": [
    "Podemos comprobar el nombre del modelo con el ID del modelo para poder realizar las pruebas más adelante"
   ]
  },
  {
   "cell_type": "code",
   "execution_count": 70,
   "id": "142a6681",
   "metadata": {},
   "outputs": [
    {
     "data": {
      "text/plain": [
       "<OpenAIObject list at 0x26477924130> JSON: {\n",
       "  \"data\": [\n",
       "    {\n",
       "      \"created_at\": 1686248307,\n",
       "      \"level\": \"info\",\n",
       "      \"message\": \"Created fine-tune: ft-xamF6eKoYplEG0NB2stbVfZ1\",\n",
       "      \"object\": \"fine-tune-event\"\n",
       "    },\n",
       "    {\n",
       "      \"created_at\": 1686248483,\n",
       "      \"level\": \"info\",\n",
       "      \"message\": \"Fine-tune costs $4.14\",\n",
       "      \"object\": \"fine-tune-event\"\n",
       "    },\n",
       "    {\n",
       "      \"created_at\": 1686248483,\n",
       "      \"level\": \"info\",\n",
       "      \"message\": \"Fine-tune enqueued. Queue number: 3\",\n",
       "      \"object\": \"fine-tune-event\"\n",
       "    },\n",
       "    {\n",
       "      \"created_at\": 1686248718,\n",
       "      \"level\": \"info\",\n",
       "      \"message\": \"Fine-tune is in the queue. Queue number: 2\",\n",
       "      \"object\": \"fine-tune-event\"\n",
       "    },\n",
       "    {\n",
       "      \"created_at\": 1686248725,\n",
       "      \"level\": \"info\",\n",
       "      \"message\": \"Fine-tune is in the queue. Queue number: 1\",\n",
       "      \"object\": \"fine-tune-event\"\n",
       "    },\n",
       "    {\n",
       "      \"created_at\": 1686248726,\n",
       "      \"level\": \"info\",\n",
       "      \"message\": \"Fine-tune is in the queue. Queue number: 0\",\n",
       "      \"object\": \"fine-tune-event\"\n",
       "    },\n",
       "    {\n",
       "      \"created_at\": 1686248957,\n",
       "      \"level\": \"info\",\n",
       "      \"message\": \"Fine-tune started\",\n",
       "      \"object\": \"fine-tune-event\"\n",
       "    },\n",
       "    {\n",
       "      \"created_at\": 1686249400,\n",
       "      \"level\": \"info\",\n",
       "      \"message\": \"Completed epoch 1/4\",\n",
       "      \"object\": \"fine-tune-event\"\n",
       "    },\n",
       "    {\n",
       "      \"created_at\": 1686249608,\n",
       "      \"level\": \"info\",\n",
       "      \"message\": \"Completed epoch 2/4\",\n",
       "      \"object\": \"fine-tune-event\"\n",
       "    },\n",
       "    {\n",
       "      \"created_at\": 1686249812,\n",
       "      \"level\": \"info\",\n",
       "      \"message\": \"Completed epoch 3/4\",\n",
       "      \"object\": \"fine-tune-event\"\n",
       "    },\n",
       "    {\n",
       "      \"created_at\": 1686250017,\n",
       "      \"level\": \"info\",\n",
       "      \"message\": \"Completed epoch 4/4\",\n",
       "      \"object\": \"fine-tune-event\"\n",
       "    },\n",
       "    {\n",
       "      \"created_at\": 1686250069,\n",
       "      \"level\": \"info\",\n",
       "      \"message\": \"Uploaded model: davinci:ft-personal-2023-06-08-18-47-48\",\n",
       "      \"object\": \"fine-tune-event\"\n",
       "    },\n",
       "    {\n",
       "      \"created_at\": 1686250070,\n",
       "      \"level\": \"info\",\n",
       "      \"message\": \"Uploaded result file: file-fOWy3tFkMKWDztdtfbyj5Z2x\",\n",
       "      \"object\": \"fine-tune-event\"\n",
       "    },\n",
       "    {\n",
       "      \"created_at\": 1686250070,\n",
       "      \"level\": \"info\",\n",
       "      \"message\": \"Fine-tune succeeded\",\n",
       "      \"object\": \"fine-tune-event\"\n",
       "    }\n",
       "  ],\n",
       "  \"object\": \"list\"\n",
       "}"
      ]
     },
     "execution_count": 70,
     "metadata": {},
     "output_type": "execute_result"
    }
   ],
   "source": [
    "openai.FineTune.list_events(id=\"ft-xamF6eKoYplEG0NB2stbVfZ1\")"
   ]
  },
  {
   "cell_type": "markdown",
   "id": "4d8213cc",
   "metadata": {},
   "source": [
    "**Nombre:**\n",
    "\n",
    "    ft-personal-2023-06-08-18-47-48"
   ]
  },
  {
   "cell_type": "markdown",
   "id": "949ae560",
   "metadata": {},
   "source": [
    "##  <a name=\"6\"> Resultados</a>"
   ]
  },
  {
   "cell_type": "markdown",
   "id": "f4cc70a5",
   "metadata": {},
   "source": [
    "Extraemos los resultados con el ID del modelo:"
   ]
  },
  {
   "cell_type": "code",
   "execution_count": 90,
   "id": "1213e987",
   "metadata": {},
   "outputs": [],
   "source": [
    "!openai api fine_tunes.results -i ft-xamF6eKoYplEG0NB2stbVfZ1 > ../data/processed/metricas_gpt_politics.csv"
   ]
  },
  {
   "cell_type": "markdown",
   "id": "a2f4201e",
   "metadata": {},
   "source": [
    "**Imprimimos los resultados:**"
   ]
  },
  {
   "cell_type": "code",
   "execution_count": 31,
   "id": "ffc97b59",
   "metadata": {},
   "outputs": [
    {
     "data": {
      "text/html": [
       "<div>\n",
       "<style scoped>\n",
       "    .dataframe tbody tr th:only-of-type {\n",
       "        vertical-align: middle;\n",
       "    }\n",
       "\n",
       "    .dataframe tbody tr th {\n",
       "        vertical-align: top;\n",
       "    }\n",
       "\n",
       "    .dataframe thead th {\n",
       "        text-align: right;\n",
       "    }\n",
       "</style>\n",
       "<table border=\"1\" class=\"dataframe\">\n",
       "  <thead>\n",
       "    <tr style=\"text-align: right;\">\n",
       "      <th></th>\n",
       "      <th>step</th>\n",
       "      <th>elapsed_tokens</th>\n",
       "      <th>elapsed_examples</th>\n",
       "      <th>training_loss</th>\n",
       "      <th>training_sequence_accuracy</th>\n",
       "      <th>training_token_accuracy</th>\n",
       "      <th>validation_loss</th>\n",
       "      <th>validation_sequence_accuracy</th>\n",
       "      <th>validation_token_accuracy</th>\n",
       "      <th>classification/accuracy</th>\n",
       "      <th>classification/weighted_f1_score</th>\n",
       "    </tr>\n",
       "  </thead>\n",
       "  <tbody>\n",
       "    <tr>\n",
       "      <th>2449</th>\n",
       "      <td>2450</td>\n",
       "      <td>147122</td>\n",
       "      <td>2450</td>\n",
       "      <td>0.015613</td>\n",
       "      <td>1.0</td>\n",
       "      <td>1.0</td>\n",
       "      <td>NaN</td>\n",
       "      <td>NaN</td>\n",
       "      <td>NaN</td>\n",
       "      <td>0.810458</td>\n",
       "      <td>0.809639</td>\n",
       "    </tr>\n",
       "  </tbody>\n",
       "</table>\n",
       "</div>"
      ],
      "text/plain": [
       "      step  elapsed_tokens  elapsed_examples  training_loss  \\\n",
       "2449  2450          147122              2450       0.015613   \n",
       "\n",
       "      training_sequence_accuracy  training_token_accuracy  validation_loss  \\\n",
       "2449                         1.0                      1.0              NaN   \n",
       "\n",
       "      validation_sequence_accuracy  validation_token_accuracy  \\\n",
       "2449                           NaN                        NaN   \n",
       "\n",
       "      classification/accuracy  classification/weighted_f1_score  \n",
       "2449                 0.810458                          0.809639  "
      ]
     },
     "execution_count": 31,
     "metadata": {},
     "output_type": "execute_result"
    }
   ],
   "source": [
    "results = pd.read_csv('../data/processed/metricas_gpt_politics.csv')\n",
    "results[results['classification/accuracy'].notnull()].tail(1)"
   ]
  },
  {
   "cell_type": "markdown",
   "id": "c705ce8e",
   "metadata": {},
   "source": [
    "##  <a name=\"7\"> Pruebas</a>"
   ]
  },
  {
   "cell_type": "markdown",
   "id": "8c7999c3",
   "metadata": {},
   "source": [
    "En este cuaderno, realizaremos pruebas del modelo utilizando el sistema prompting. Usaremos el modelo GPT-3 Davinci de OpenAI y le proporcionaremos un tweet como entrada. El modelo procesará el texto y nos devolverá la predicción del sentimiento asociado al tweet. Utilizaremos este enfoque de prompting para obtener resultados precisos y comprensibles sobre el sentimiento de cada tweet."
   ]
  },
  {
   "cell_type": "markdown",
   "id": "82afd9e6",
   "metadata": {},
   "source": [
    "**TWEET:**"
   ]
  },
  {
   "cell_type": "markdown",
   "id": "139a38cb",
   "metadata": {},
   "source": [
    "Rocio Monasterio\n",
    "@monasterioR\n",
    "\n",
    "\n",
    "El PP no han querido derogar en diciembre de 2021, ni en febrero 2023 una Ley Trans autonómica en la Comunidad de Madrid que pone en riesgo a los menores y ahora dicen que derogarán la nacional. \n",
    "\n",
    "Yo no entiendo nada, de nada."
   ]
  },
  {
   "cell_type": "code",
   "execution_count": 13,
   "id": "8169bcb2",
   "metadata": {},
   "outputs": [
    {
     "data": {
      "text/plain": [
       "'   #debatetm -> podemos madrid -> pod'"
      ]
     },
     "execution_count": 13,
     "metadata": {},
     "output_type": "execute_result"
    }
   ],
   "source": [
    "ft_model = 'davinci:ft-personal-2023-06-08-18-47-48'\n",
    "tweet = \"\"\" el pp no han querido derogar en diciembre de 2021, \n",
    "ni en febrero 2023 una ley trans autonomica en la comunidad de madrid que pone en riesgo a los menores y \n",
    "ahora dicen que derogaran la nacional.\n",
    "yo no entiendo nada, de nada. \"\"\"\n",
    "res = openai.Completion.create(model=ft_model, prompt=tweet, max_tokens=15, temperature=0, logprobs=2)\n",
    "res['choices'][0]['text']"
   ]
  },
  {
   "cell_type": "markdown",
   "id": "1701f16e",
   "metadata": {},
   "source": [
    "**TWEET:**"
   ]
  },
  {
   "cell_type": "markdown",
   "id": "9013e0f0",
   "metadata": {},
   "source": [
    "Isabel Díaz Ayuso\n",
    "@IdiazAyuso Jun 6\n",
    "\n",
    "\n",
    "Lo más grave es escuchar a ministros del Gobierno malmetiendo sin saber quién compone la comisión que decide el contenido de las pruebas. \n",
    "Empezando por la ministra de Educación. \n",
    "Viven desde y para el activismo político."
   ]
  },
  {
   "cell_type": "code",
   "execution_count": 15,
   "id": "c28ef30b",
   "metadata": {},
   "outputs": [
    {
     "data": {
      "text/plain": [
       "'               '"
      ]
     },
     "execution_count": 15,
     "metadata": {},
     "output_type": "execute_result"
    }
   ],
   "source": [
    "ft_model = 'davinci:ft-personal-2023-06-08-18-47-48'\n",
    "tweet = \"\"\" Lo más grave es escuchar a ministros del Gobierno malmetiendo sin saber quién compone la comisión que decide el contenido de las pruebas. \n",
    "\n",
    "Empezando por la ministra de Educación. \n",
    "\n",
    "Viven desde y para el activismo político.. \"\"\"\n",
    "res = openai.Completion.create(model=ft_model, prompt=tweet, max_tokens=15, temperature=0, logprobs=2)\n",
    "res['choices'][0]['text']"
   ]
  },
  {
   "cell_type": "markdown",
   "id": "64823831",
   "metadata": {},
   "source": [
    "**Prueba de palabra positiva:**"
   ]
  },
  {
   "cell_type": "code",
   "execution_count": 17,
   "id": "53654165",
   "metadata": {},
   "outputs": [
    {
     "data": {
      "text/plain": [
       "'   #votaseguro -> vox -> vox 28'"
      ]
     },
     "execution_count": 17,
     "metadata": {},
     "output_type": "execute_result"
    }
   ],
   "source": [
    "ft_model = 'davinci:ft-personal-2023-06-08-18-47-48'\n",
    "tweet = \"\"\" amor. \"\"\"\n",
    "res = openai.Completion.create(model=ft_model, prompt=tweet, max_tokens=15, temperature=0, logprobs=2)\n",
    "res['choices'][0]['text']"
   ]
  },
  {
   "cell_type": "markdown",
   "id": "bb2ac0f1",
   "metadata": {},
   "source": [
    "## **Este modelo no esta dando los resultados esperados.**"
   ]
  }
 ],
 "metadata": {
  "kernelspec": {
   "display_name": "TFM",
   "language": "python",
   "name": "tfm"
  },
  "language_info": {
   "codemirror_mode": {
    "name": "ipython",
    "version": 3
   },
   "file_extension": ".py",
   "mimetype": "text/x-python",
   "name": "python",
   "nbconvert_exporter": "python",
   "pygments_lexer": "ipython3",
   "version": "3.9.16"
  }
 },
 "nbformat": 4,
 "nbformat_minor": 5
}
